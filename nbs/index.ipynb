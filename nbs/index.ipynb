{
 "cells": [
  {
   "cell_type": "code",
   "execution_count": null,
   "metadata": {},
   "outputs": [],
   "source": [
    "#| hide\n",
    "from ask_ai.core import *"
   ]
  },
  {
   "cell_type": "markdown",
   "metadata": {},
   "source": [
    "# ask_ai\n",
    "\n",
    "> A Jupyter Notebook magic for talking to ChatGPT."
   ]
  },
  {
   "cell_type": "markdown",
   "metadata": {},
   "source": [
    "A simple library for talking to ChatGPT from within Jupyter Notebook.\n",
    "\n",
    "**Motivation**: _Don't fear ChatGPT taking your job. Fear a person using ChatGPT taking your job._\n",
    "\n",
    "Of course, this is a sensationalized statement. But it very succinctly gets at something deep and important -- [using LLMs in your work can unlock massive productivity gains](https://twitter.com/emollick/status/1631397931604488194?s=20). I do not know of a better way for me to start using these tools than to bring them closer to where I work, which is Jupyter Notebooks.\n",
    "\n",
    "Also, I really hate the \"typewriter effect\" where you are fed a few words at a time through the ChatGPT UI. I'd much rather have the full reply I can scan in a couple of seconds."
   ]
  },
  {
   "cell_type": "markdown",
   "metadata": {},
   "source": [
    "## Install"
   ]
  },
  {
   "cell_type": "markdown",
   "metadata": {},
   "source": [
    "```sh\n",
    "pip install ask_ai\n",
    "```"
   ]
  },
  {
   "cell_type": "markdown",
   "metadata": {},
   "source": [
    "Set the environment variable `OPENAI_API_KEY` to your OpenAI API key."
   ]
  },
  {
   "cell_type": "markdown",
   "metadata": {},
   "source": [
    "## How to use"
   ]
  },
  {
   "cell_type": "markdown",
   "metadata": {},
   "source": [
    "Fill me in please! Don't forget code examples:"
   ]
  },
  {
   "cell_type": "code",
   "execution_count": null,
   "metadata": {},
   "outputs": [
    {
     "data": {
      "text/plain": [
       "2"
      ]
     },
     "execution_count": null,
     "metadata": {},
     "output_type": "execute_result"
    }
   ],
   "source": [
    "1+1"
   ]
  },
  {
   "cell_type": "code",
   "execution_count": null,
   "metadata": {},
   "outputs": [],
   "source": []
  }
 ],
 "metadata": {
  "kernelspec": {
   "display_name": "python3",
   "language": "python",
   "name": "python3"
  }
 },
 "nbformat": 4,
 "nbformat_minor": 4
}
