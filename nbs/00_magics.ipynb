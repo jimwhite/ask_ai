{
 "cells": [
  {
   "attachments": {},
   "cell_type": "markdown",
   "metadata": {},
   "source": [
    "# magics\n",
    "\n",
    "> Fill in a module description here"
   ]
  },
  {
   "cell_type": "code",
   "execution_count": 1,
   "metadata": {},
   "outputs": [],
   "source": [
    "#| default_exp magics"
   ]
  },
  {
   "cell_type": "code",
   "execution_count": 2,
   "metadata": {},
   "outputs": [],
   "source": [
    "#| hide\n",
    "from nbdev.showdoc import *"
   ]
  },
  {
   "cell_type": "code",
   "execution_count": 3,
   "metadata": {},
   "outputs": [],
   "source": [
    "#| export\n",
    "\n",
    "import os\n",
    "import openai\n",
    "from IPython.display import display, Markdown\n",
    "\n",
    "openai.api_key = os.environ['OPENAI_API_KEY']"
   ]
  },
  {
   "cell_type": "code",
   "execution_count": 4,
   "metadata": {},
   "outputs": [],
   "source": [
    "#| export\n",
    "\n",
    "class OpenAIAPI():\n",
    "    def __init__(self):\n",
    "        self.reset_context()\n",
    "\n",
    "    def reset_context(self):\n",
    "        self.context = [\n",
    "            {\n",
    "                'role':'system',\n",
    "                'content': 'You are an expert programmer helping out a friend. Your friend is using Python in Jupyter Notebook. Give a succinct answer that a programmer with one year of professional experience would easily understand.'\n",
    "            }\n",
    "        ]\n",
    "\n",
    "    def get_completion(self, prompt, new_conversation=True):\n",
    "        if new_conversation:\n",
    "            self.reset_context()\n",
    "        \n",
    "        self.context.append(\n",
    "            {\n",
    "                'role':'user',\n",
    "                'content': prompt\n",
    "            }\n",
    "        )\n",
    "\n",
    "        response = openai.ChatCompletion.create(\n",
    "            model = \"gpt-3.5-turbo\",\n",
    "            messages = self.context\n",
    "        )\n",
    "        \n",
    "        completion = self.extract_completion(response)\n",
    "        self.extend_context(response)\n",
    "        self.prune_context()\n",
    "        self.display_completion(completion)\n",
    "        \n",
    "        self.last_response = response  # useful for debugging\n",
    "    \n",
    "    def extract_completion(self, response):\n",
    "        return response['choices'][0].message.content.strip()\n",
    "    \n",
    "    def extend_context(self, response):\n",
    "        self.context.append(response['choices'][0].message.to_dict())\n",
    "    \n",
    "    def prune_context(self):\n",
    "        # Prune context to under 2200 words. That should be ~3000 tokens, leaving room for the prompt and completion.\n",
    "        pruned_context = []\n",
    "        word_count = 0\n",
    "        while self.context:\n",
    "            last_message = self.context.pop()\n",
    "            word_count += len(last_message['content'].split())\n",
    "            if word_count < 2200:\n",
    "                pruned_context.append(last_message)\n",
    "            else:\n",
    "                break\n",
    "        pruned_context.reverse()\n",
    "\n",
    "    def display_completion(self, completion):\n",
    "        display(Markdown(completion))\n",
    "\n",
    "open_ai_api = OpenAIAPI()"
   ]
  },
  {
   "cell_type": "code",
   "execution_count": 5,
   "metadata": {},
   "outputs": [],
   "source": [
    "#| export\n",
    "\n",
    "def ai_ask(line, cell):\n",
    "    open_ai_api.get_completion(cell)\n",
    "\n",
    "def ai_continue(line, cell):\n",
    "    open_ai_api.get_completion(cell, False)\n",
    "    \n",
    "def load_ipython_extension(ipython):\n",
    "    ipython.register_magic_function(ai_ask, magic_kind='cell', magic_name='ai_ask')\n",
    "    ipython.register_magic_function(ai_continue, magic_kind='cell', magic_name='ai_continue')"
   ]
  },
  {
   "cell_type": "code",
   "execution_count": 6,
   "metadata": {},
   "outputs": [],
   "source": [
    "#| hide\n",
    "import nbdev; nbdev.nbdev_export()"
   ]
  }
 ],
 "metadata": {
  "kernelspec": {
   "display_name": "Python 3 (ipykernel)",
   "language": "python",
   "name": "python3"
  },
  "language_info": {
   "codemirror_mode": {
    "name": "ipython",
    "version": 3
   },
   "file_extension": ".py",
   "mimetype": "text/x-python",
   "name": "python",
   "nbconvert_exporter": "python",
   "pygments_lexer": "ipython3",
   "version": "3.8.15"
  }
 },
 "nbformat": 4,
 "nbformat_minor": 4
}
